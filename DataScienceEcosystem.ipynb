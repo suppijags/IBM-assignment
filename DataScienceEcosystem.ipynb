{
 "cells": [
  {
   "cell_type": "markdown",
   "id": "d790ac20",
   "metadata": {},
   "source": [
    "# Data Science Tools and Ecosystem"
   ]
  },
  {
   "cell_type": "markdown",
   "id": "9e8a540a",
   "metadata": {},
   "source": [
    "In this notebook, Data Science Tools and Ecosystem are summarized."
   ]
  },
  {
   "cell_type": "markdown",
   "id": "e5f190f1",
   "metadata": {},
   "source": [
    "**Objectives:**\n",
    "\n",
    "    - List popular languages for Data Science\n",
    "    - Explain the basics of version control using Git.\n",
    "    - Introduce GitHub and its features.\n",
    "    - Discuss common tools and libraries used in Data Science."
   ]
  },
  {
   "cell_type": "markdown",
   "id": "5fe78789",
   "metadata": {},
   "source": [
    "    Some of the popular languages that Data Scientists use are:\n",
    "    1. Python\n",
    "    2. R language\n",
    "    3. Javascript\n",
    "    4. C++"
   ]
  },
  {
   "cell_type": "markdown",
   "id": "910816ee",
   "metadata": {},
   "source": [
    "    Some of the commonly used libraries used by Data Scientists include:\n",
    "    1. Pandas\n",
    "    2. Matplotlib\n",
    "    3. Seaborn"
   ]
  },
  {
   "cell_type": "markdown",
   "id": "45b22f5c",
   "metadata": {},
   "source": [
    "| Data Science Tools |\n",
    "| ------------------ |\n",
    "| Jupyter Notebooks|\n",
    "| R studio|\n",
    "| Spyder|"
   ]
  },
  {
   "cell_type": "markdown",
   "id": "6534793a",
   "metadata": {},
   "source": [
    "### Below are a few examples of evaluating arithmetic expressions in Python"
   ]
  },
  {
   "cell_type": "code",
   "execution_count": 3,
   "id": "ee5ebe5f",
   "metadata": {},
   "outputs": [
    {
     "data": {
      "text/plain": [
       "17"
      ]
     },
     "execution_count": 3,
     "metadata": {},
     "output_type": "execute_result"
    }
   ],
   "source": [
    "#This a simple arithmetic expression to mutiply then add integers\n",
    "(3*4)+5"
   ]
  },
  {
   "cell_type": "code",
   "execution_count": 4,
   "id": "f1dc6d2f",
   "metadata": {},
   "outputs": [
    {
     "data": {
      "text/plain": [
       "3.3333333333333335"
      ]
     },
     "execution_count": 4,
     "metadata": {},
     "output_type": "execute_result"
    }
   ],
   "source": [
    "#This will convert 200 minutes to hours by diving by 60\n",
    "hours=200/60\n",
    "hours"
   ]
  },
  {
   "cell_type": "markdown",
   "id": "86c81d53",
   "metadata": {},
   "source": [
    "## Author\n",
    "Supriya Jagdale"
   ]
  }
 ],
 "metadata": {
  "kernelspec": {
   "display_name": "Python 3 (ipykernel)",
   "language": "python",
   "name": "python3"
  },
  "language_info": {
   "codemirror_mode": {
    "name": "ipython",
    "version": 3
   },
   "file_extension": ".py",
   "mimetype": "text/x-python",
   "name": "python",
   "nbconvert_exporter": "python",
   "pygments_lexer": "ipython3",
   "version": "3.10.9"
  }
 },
 "nbformat": 4,
 "nbformat_minor": 5
}
